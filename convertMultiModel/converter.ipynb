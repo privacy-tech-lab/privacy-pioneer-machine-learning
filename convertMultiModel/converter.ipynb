{
 "cells": [
  {
   "cell_type": "code",
   "execution_count": 1,
   "metadata": {},
   "outputs": [
    {
     "name": "stdout",
     "output_type": "stream",
     "text": [
      "Requirement already satisfied: transformers in /Library/Frameworks/Python.framework/Versions/3.9/lib/python3.9/site-packages (4.16.2)\n",
      "Requirement already satisfied: sacremoses in /Library/Frameworks/Python.framework/Versions/3.9/lib/python3.9/site-packages (from transformers) (0.0.46)\n",
      "Requirement already satisfied: regex!=2019.12.17 in /Library/Frameworks/Python.framework/Versions/3.9/lib/python3.9/site-packages (from transformers) (2021.11.10)\n",
      "Requirement already satisfied: huggingface-hub<1.0,>=0.1.0 in /Library/Frameworks/Python.framework/Versions/3.9/lib/python3.9/site-packages (from transformers) (0.2.1)\n",
      "Requirement already satisfied: requests in /Library/Frameworks/Python.framework/Versions/3.9/lib/python3.9/site-packages (from transformers) (2.26.0)\n",
      "Requirement already satisfied: packaging>=20.0 in /Library/Frameworks/Python.framework/Versions/3.9/lib/python3.9/site-packages (from transformers) (21.2)\n",
      "Requirement already satisfied: tokenizers!=0.11.3,>=0.10.1 in /Library/Frameworks/Python.framework/Versions/3.9/lib/python3.9/site-packages (from transformers) (0.10.3)\n",
      "Requirement already satisfied: tqdm>=4.27 in /Library/Frameworks/Python.framework/Versions/3.9/lib/python3.9/site-packages (from transformers) (4.62.3)\n",
      "Requirement already satisfied: numpy>=1.17 in /Library/Frameworks/Python.framework/Versions/3.9/lib/python3.9/site-packages (from transformers) (1.21.4)\n",
      "Requirement already satisfied: filelock in /Library/Frameworks/Python.framework/Versions/3.9/lib/python3.9/site-packages (from transformers) (3.4.2)\n",
      "Requirement already satisfied: pyyaml>=5.1 in /Library/Frameworks/Python.framework/Versions/3.9/lib/python3.9/site-packages (from transformers) (6.0)\n",
      "Requirement already satisfied: typing-extensions>=3.7.4.3 in /Library/Frameworks/Python.framework/Versions/3.9/lib/python3.9/site-packages (from huggingface-hub<1.0,>=0.1.0->transformers) (4.0.0)\n",
      "Requirement already satisfied: pyparsing<3,>=2.0.2 in /Library/Frameworks/Python.framework/Versions/3.9/lib/python3.9/site-packages (from packaging>=20.0->transformers) (2.4.7)\n",
      "Requirement already satisfied: urllib3<1.27,>=1.21.1 in /Library/Frameworks/Python.framework/Versions/3.9/lib/python3.9/site-packages (from requests->transformers) (1.26.7)\n",
      "Requirement already satisfied: charset-normalizer~=2.0.0 in /Library/Frameworks/Python.framework/Versions/3.9/lib/python3.9/site-packages (from requests->transformers) (2.0.7)\n",
      "Requirement already satisfied: certifi>=2017.4.17 in /Library/Frameworks/Python.framework/Versions/3.9/lib/python3.9/site-packages (from requests->transformers) (2021.10.8)\n",
      "Requirement already satisfied: idna<4,>=2.5 in /Library/Frameworks/Python.framework/Versions/3.9/lib/python3.9/site-packages (from requests->transformers) (3.3)\n",
      "Requirement already satisfied: six in /Library/Frameworks/Python.framework/Versions/3.9/lib/python3.9/site-packages (from sacremoses->transformers) (1.16.0)\n",
      "Requirement already satisfied: click in /Library/Frameworks/Python.framework/Versions/3.9/lib/python3.9/site-packages (from sacremoses->transformers) (8.0.3)\n",
      "Requirement already satisfied: joblib in /Library/Frameworks/Python.framework/Versions/3.9/lib/python3.9/site-packages (from sacremoses->transformers) (1.1.0)\n",
      "\u001b[33mWARNING: You are using pip version 21.3.1; however, version 22.2.2 is available.\n",
      "You should consider upgrading via the '/usr/local/bin/python3 -m pip install --upgrade pip' command.\u001b[0m\n",
      "Note: you may need to restart the kernel to use updated packages.\n"
     ]
    }
   ],
   "source": [
    "%pip install transformers"
   ]
  },
  {
   "cell_type": "code",
   "execution_count": 3,
   "metadata": {},
   "outputs": [
    {
     "name": "stderr",
     "output_type": "stream",
     "text": [
      "2022-10-01 16:26:40.342493: I tensorflow/core/platform/cpu_feature_guard.cc:151] This TensorFlow binary is optimized with oneAPI Deep Neural Network Library (oneDNN) to use the following CPU instructions in performance-critical operations:  AVX2 FMA\n",
      "To enable them in other operations, rebuild TensorFlow with the appropriate compiler flags.\n",
      "Some weights of the PyTorch model were not used when initializing the TF 2.0 model TFBertForSequenceClassification: ['bert.embeddings.position_ids']\n",
      "- This IS expected if you are initializing TFBertForSequenceClassification from a PyTorch model trained on another task or with another architecture (e.g. initializing a TFBertForSequenceClassification model from a BertForPreTraining model).\n",
      "- This IS NOT expected if you are initializing TFBertForSequenceClassification from a PyTorch model that you expect to be exactly identical (e.g. initializing a TFBertForSequenceClassification model from a BertForSequenceClassification model).\n",
      "All the weights of TFBertForSequenceClassification were initialized from the PyTorch model.\n",
      "If your task is similar to the task the model of the checkpoint was trained on, you can already use TFBertForSequenceClassification for predictions without further training.\n"
     ]
    }
   ],
   "source": [
    "import tensorflow as tf\n",
    "from transformers import TFBertForSequenceClassification\n",
    "\n",
    "MODEL_NAME = \"./MultitaskModel/\"\n",
    "\n",
    "model = TFBertForSequenceClassification.from_pretrained(MODEL_NAME, from_pt = True)"
   ]
  },
  {
   "cell_type": "code",
   "execution_count": 4,
   "metadata": {},
   "outputs": [
    {
     "name": "stderr",
     "output_type": "stream",
     "text": [
      "2022-10-01 16:27:09.504874: W tensorflow/python/util/util.cc:368] Sets are not currently considered sequences, but this may change in the future, so consider avoiding using them.\n",
      "WARNING:absl:Found untraced functions such as embeddings_layer_call_fn, embeddings_layer_call_and_return_conditional_losses, encoder_layer_call_fn, encoder_layer_call_and_return_conditional_losses, pooler_layer_call_fn while saving (showing 5 of 370). These functions will not be directly callable after loading.\n"
     ]
    },
    {
     "name": "stdout",
     "output_type": "stream",
     "text": [
      "INFO:tensorflow:Assets written to: multitaskModelForJS/assets\n"
     ]
    },
    {
     "name": "stderr",
     "output_type": "stream",
     "text": [
      "INFO:tensorflow:Assets written to: multitaskModelForJS/assets\n"
     ]
    },
    {
     "name": "stdout",
     "output_type": "stream",
     "text": [
      "The given SavedModel SignatureDef contains the following input(s):\n",
      "  inputs['attention_mask'] tensor_info:\n",
      "      dtype: DT_INT32\n",
      "      shape: (-1, 384)\n",
      "      name: serving_default_attention_mask:0\n",
      "  inputs['input_ids'] tensor_info:\n",
      "      dtype: DT_INT32\n",
      "      shape: (-1, 384)\n",
      "      name: serving_default_input_ids:0\n",
      "The given SavedModel SignatureDef contains the following output(s):\n",
      "  outputs['logits'] tensor_info:\n",
      "      dtype: DT_FLOAT\n",
      "      shape: (-1, 2)\n",
      "      name: StatefulPartitionedCall:0\n",
      "Method name is: tensorflow/serving/predict\n"
     ]
    }
   ],
   "source": [
    "callable = tf.function(model.call)\n",
    "concrete_function = callable.get_concrete_function([tf.TensorSpec([None, 384], tf.int32, name=\"input_ids\"),tf.TensorSpec([None, 384], tf.int32, name=\"attention_mask\")])\n",
    "\n",
    "tf.saved_model.save(model, 'multitaskModelForJS', signatures=concrete_function)\n",
    "!saved_model_cli show --dir multitaskModelForJS --tag_set serve --signature_def serving_default"
   ]
  },
  {
   "cell_type": "code",
   "execution_count": 5,
   "metadata": {},
   "outputs": [
    {
     "name": "stdout",
     "output_type": "stream",
     "text": [
      "2022-10-01 16:28:21.732072: I tensorflow/core/platform/cpu_feature_guard.cc:151] This TensorFlow binary is optimized with oneAPI Deep Neural Network Library (oneDNN) to use the following CPU instructions in performance-critical operations:  AVX2 FMA\n",
      "To enable them in other operations, rebuild TensorFlow with the appropriate compiler flags.\n",
      "2022-10-01 16:28:25.369396: I tensorflow/core/grappler/devices.cc:75] Number of eligible GPUs (core count >= 8, compute capability >= 0.0): 0 (Note: TensorFlow was not compiled with CUDA or ROCm support)\n",
      "2022-10-01 16:28:25.369915: I tensorflow/core/grappler/clusters/single_machine.cc:358] Starting new session\n",
      "2022-10-01 16:28:25.476898: I tensorflow/core/grappler/optimizers/meta_optimizer.cc:1149] Optimization results for grappler item: graph_to_optimize\n",
      "  function_optimizer: Graph size after: 1138 nodes (1060), 1480 edges (1402), time = 67.519ms.\n",
      "  function_optimizer: function_optimizer did nothing. time = 1.555ms.\n",
      "\n",
      "2022-10-01 16:28:29.563712: I tensorflow/core/grappler/optimizers/meta_optimizer.cc:1149] Optimization results for grappler item: graph_to_optimize\n",
      "  debug_stripper: debug_stripper did nothing. time = 0.049ms.\n",
      "  model_pruner: Graph size after: 1034 nodes (-102), 1376 edges (-102), time = 94.227ms.\n",
      "  constant_folding: Graph size after: 956 nodes (-78), 1298 edges (-78), time = 206.544ms.\n",
      "  arithmetic_optimizer: Graph size after: 956 nodes (0), 1298 edges (0), time = 96.722ms.\n",
      "  dependency_optimizer: Graph size after: 880 nodes (-76), 1028 edges (-270), time = 58.581ms.\n",
      "  model_pruner: Graph size after: 880 nodes (0), 1028 edges (0), time = 46.111ms.\n",
      "  constant_folding: Graph size after: 880 nodes (0), 1028 edges (0), time = 119.417ms.\n",
      "  arithmetic_optimizer: Graph size after: 880 nodes (0), 1028 edges (0), time = 75.004ms.\n",
      "  dependency_optimizer: Graph size after: 880 nodes (0), 1028 edges (0), time = 35.016ms.\n",
      "  debug_stripper: debug_stripper did nothing. time = 5.854ms.\n",
      "  model_pruner: Graph size after: 880 nodes (0), 1028 edges (0), time = 20.27ms.\n",
      "  constant_folding: Graph size after: 880 nodes (0), 1028 edges (0), time = 100.957ms.\n",
      "  arithmetic_optimizer: Graph size after: 880 nodes (0), 1028 edges (0), time = 78.612ms.\n",
      "  dependency_optimizer: Graph size after: 880 nodes (0), 1028 edges (0), time = 33.908ms.\n",
      "  model_pruner: Graph size after: 880 nodes (0), 1028 edges (0), time = 27.447ms.\n",
      "  constant_folding: Graph size after: 880 nodes (0), 1028 edges (0), time = 99.953ms.\n",
      "  arithmetic_optimizer: Graph size after: 880 nodes (0), 1028 edges (0), time = 76.6ms.\n",
      "  dependency_optimizer: Graph size after: 880 nodes (0), 1028 edges (0), time = 34.904ms.\n",
      "\n",
      "2022-10-01 16:28:30.985732: I tensorflow/core/grappler/optimizers/meta_optimizer.cc:1149] Optimization results for grappler item: graph_to_optimize\n",
      "  remapper: Graph size after: 878 nodes (-2), 1026 edges (-2), time = 41.479ms.\n",
      "  constant_folding: Graph size after: 878 nodes (0), 1026 edges (0), time = 110.303ms.\n",
      "  arithmetic_optimizer: Graph size after: 878 nodes (0), 1026 edges (0), time = 70.685ms.\n",
      "  dependency_optimizer: Graph size after: 878 nodes (0), 1026 edges (0), time = 35.176ms.\n",
      "  remapper: Graph size after: 878 nodes (0), 1026 edges (0), time = 23.75ms.\n",
      "  constant_folding: Graph size after: 878 nodes (0), 1026 edges (0), time = 102.177ms.\n",
      "  arithmetic_optimizer: Graph size after: 878 nodes (0), 1026 edges (0), time = 71.74ms.\n",
      "  dependency_optimizer: Graph size after: 878 nodes (0), 1026 edges (0), time = 33.695ms.\n",
      "\n",
      "Writing weight file /Users/danielgoldelman/Desktop/privacy-tech-lab/privacy-pioneer-machine-learning/convertMultiModel/multitaskModelForJSWeb/model.json...\n"
     ]
    }
   ],
   "source": [
    "!tensorflowjs_converter \\\n",
    "    --input_format=tf_saved_model \\\n",
    "    --output_format=tfjs_graph_model \\\n",
    "    --signature_name=serving_default \\\n",
    "    --saved_model_tags=serve \\\n",
    "    /Users/danielgoldelman/Desktop/privacy-tech-lab/privacy-pioneer-machine-learning/convertMultiModel/multitaskModelForJS \\\n",
    "    /Users/danielgoldelman/Desktop/privacy-tech-lab/privacy-pioneer-machine-learning/convertMultiModel/multitaskModelForJSWeb"
   ]
  }
 ],
 "metadata": {
  "interpreter": {
   "hash": "aee8b7b246df8f9039afb4144a1f6fd8d2ca17a180786b69acc140d282b71a49"
  },
  "kernelspec": {
   "display_name": "Python 3.9.5 64-bit",
   "language": "python",
   "name": "python3"
  },
  "language_info": {
   "codemirror_mode": {
    "name": "ipython",
    "version": 3
   },
   "file_extension": ".py",
   "mimetype": "text/x-python",
   "name": "python",
   "nbconvert_exporter": "python",
   "pygments_lexer": "ipython3",
   "version": "3.9.5"
  },
  "orig_nbformat": 4
 },
 "nbformat": 4,
 "nbformat_minor": 2
}
