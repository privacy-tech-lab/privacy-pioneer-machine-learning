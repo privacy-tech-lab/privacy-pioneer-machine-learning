{
 "cells": [
  {
   "cell_type": "code",
   "execution_count": null,
   "metadata": {},
   "outputs": [],
   "source": [
    "%pip install transformers"
   ]
  },
  {
   "cell_type": "code",
   "execution_count": 2,
   "metadata": {},
   "outputs": [
    {
     "name": "stderr",
     "output_type": "stream",
     "text": [
      "2022-10-01 12:26:38.222202: I tensorflow/core/platform/cpu_feature_guard.cc:151] This TensorFlow binary is optimized with oneAPI Deep Neural Network Library (oneDNN) to use the following CPU instructions in performance-critical operations:  AVX2 FMA\n",
      "To enable them in other operations, rebuild TensorFlow with the appropriate compiler flags.\n",
      "Some weights of the PyTorch model were not used when initializing the TF 2.0 model TFBertModel: ['classifier.weight', 'bert.embeddings.position_ids', 'classifier.bias']\n",
      "- This IS expected if you are initializing TFBertModel from a PyTorch model trained on another task or with another architecture (e.g. initializing a TFBertForSequenceClassification model from a BertForPreTraining model).\n",
      "- This IS NOT expected if you are initializing TFBertModel from a PyTorch model that you expect to be exactly identical (e.g. initializing a TFBertForSequenceClassification model from a BertForSequenceClassification model).\n",
      "All the weights of TFBertModel were initialized from the PyTorch model.\n",
      "If your task is similar to the task the model of the checkpoint was trained on, you can already use TFBertModel for predictions without further training.\n"
     ]
    }
   ],
   "source": [
    "import tensorflow as tf\n",
    "from transformers import TFAutoModel\n",
    "\n",
    "MODEL_NAME = \"./MultitaskModel/\"\n",
    "\n",
    "model = TFAutoModel.from_pretrained(MODEL_NAME, from_pt = True)"
   ]
  },
  {
   "cell_type": "code",
   "execution_count": 3,
   "metadata": {},
   "outputs": [
    {
     "name": "stderr",
     "output_type": "stream",
     "text": [
      "2022-10-01 12:26:55.698962: W tensorflow/python/util/util.cc:368] Sets are not currently considered sequences, but this may change in the future, so consider avoiding using them.\n",
      "WARNING:absl:Found untraced functions such as embeddings_layer_call_fn, embeddings_layer_call_and_return_conditional_losses, encoder_layer_call_fn, encoder_layer_call_and_return_conditional_losses, pooler_layer_call_fn while saving (showing 5 of 370). These functions will not be directly callable after loading.\n"
     ]
    },
    {
     "name": "stdout",
     "output_type": "stream",
     "text": [
      "INFO:tensorflow:Assets written to: multitaskModelForJS/assets\n"
     ]
    },
    {
     "name": "stderr",
     "output_type": "stream",
     "text": [
      "INFO:tensorflow:Assets written to: multitaskModelForJS/assets\n"
     ]
    },
    {
     "name": "stdout",
     "output_type": "stream",
     "text": [
      "The given SavedModel SignatureDef contains the following input(s):\n",
      "  inputs['attention_mask'] tensor_info:\n",
      "      dtype: DT_INT32\n",
      "      shape: (-1, 384)\n",
      "      name: serving_default_attention_mask:0\n",
      "  inputs['input_ids'] tensor_info:\n",
      "      dtype: DT_INT32\n",
      "      shape: (-1, 384)\n",
      "      name: serving_default_input_ids:0\n",
      "The given SavedModel SignatureDef contains the following output(s):\n",
      "  outputs['last_hidden_state'] tensor_info:\n",
      "      dtype: DT_FLOAT\n",
      "      shape: (-1, 384, 312)\n",
      "      name: StatefulPartitionedCall:0\n",
      "  outputs['pooler_output'] tensor_info:\n",
      "      dtype: DT_FLOAT\n",
      "      shape: (-1, 312)\n",
      "      name: StatefulPartitionedCall:1\n",
      "Method name is: tensorflow/serving/predict\n"
     ]
    }
   ],
   "source": [
    "callable = tf.function(model.call)\n",
    "concrete_function = callable.get_concrete_function([tf.TensorSpec([None, 384], tf.int32, name=\"input_ids\"),tf.TensorSpec([None, 384], tf.int32, name=\"attention_mask\")])\n",
    "\n",
    "tf.saved_model.save(model, 'multitaskModelForJS', signatures=concrete_function)\n",
    "!saved_model_cli show --dir multitaskModelForJS --tag_set serve --signature_def serving_default"
   ]
  },
  {
   "cell_type": "code",
   "execution_count": 4,
   "metadata": {},
   "outputs": [
    {
     "name": "stdout",
     "output_type": "stream",
     "text": [
      "2022-10-01 12:27:38.167523: I tensorflow/core/platform/cpu_feature_guard.cc:151] This TensorFlow binary is optimized with oneAPI Deep Neural Network Library (oneDNN) to use the following CPU instructions in performance-critical operations:  AVX2 FMA\n",
      "To enable them in other operations, rebuild TensorFlow with the appropriate compiler flags.\n",
      "2022-10-01 12:27:41.123183: I tensorflow/core/grappler/devices.cc:75] Number of eligible GPUs (core count >= 8, compute capability >= 0.0): 0 (Note: TensorFlow was not compiled with CUDA or ROCm support)\n",
      "2022-10-01 12:27:41.123893: I tensorflow/core/grappler/clusters/single_machine.cc:358] Starting new session\n",
      "2022-10-01 12:27:41.230477: I tensorflow/core/grappler/optimizers/meta_optimizer.cc:1149] Optimization results for grappler item: graph_to_optimize\n",
      "  function_optimizer: Graph size after: 1132 nodes (1055), 1472 edges (1394), time = 65.855ms.\n",
      "  function_optimizer: function_optimizer did nothing. time = 1.611ms.\n",
      "\n",
      "2022-10-01 12:27:45.153398: I tensorflow/core/grappler/optimizers/meta_optimizer.cc:1149] Optimization results for grappler item: graph_to_optimize\n",
      "  debug_stripper: debug_stripper did nothing. time = 0.055ms.\n",
      "  model_pruner: Graph size after: 1030 nodes (-100), 1370 edges (-100), time = 133.072ms.\n",
      "  constant_folding: Graph size after: 954 nodes (-76), 1294 edges (-76), time = 213.125ms.\n",
      "  arithmetic_optimizer: Graph size after: 954 nodes (0), 1294 edges (0), time = 94.761ms.\n",
      "  dependency_optimizer: Graph size after: 877 nodes (-77), 1025 edges (-269), time = 55.741ms.\n",
      "  model_pruner: Graph size after: 877 nodes (0), 1025 edges (0), time = 44.299ms.\n",
      "  constant_folding: Graph size after: 877 nodes (0), 1025 edges (0), time = 115.158ms.\n",
      "  arithmetic_optimizer: Graph size after: 877 nodes (0), 1025 edges (0), time = 65.799ms.\n",
      "  dependency_optimizer: Graph size after: 877 nodes (0), 1025 edges (0), time = 32.134ms.\n",
      "  debug_stripper: debug_stripper did nothing. time = 5.516ms.\n",
      "  model_pruner: Graph size after: 877 nodes (0), 1025 edges (0), time = 19.24ms.\n",
      "  constant_folding: Graph size after: 877 nodes (0), 1025 edges (0), time = 102.689ms.\n",
      "  arithmetic_optimizer: Graph size after: 877 nodes (0), 1025 edges (0), time = 67.867ms.\n",
      "  dependency_optimizer: Graph size after: 877 nodes (0), 1025 edges (0), time = 31.18ms.\n",
      "  model_pruner: Graph size after: 877 nodes (0), 1025 edges (0), time = 23.567ms.\n",
      "  constant_folding: Graph size after: 877 nodes (0), 1025 edges (0), time = 97.767ms.\n",
      "  arithmetic_optimizer: Graph size after: 877 nodes (0), 1025 edges (0), time = 70.205ms.\n",
      "  dependency_optimizer: Graph size after: 877 nodes (0), 1025 edges (0), time = 33.602ms.\n",
      "\n",
      "2022-10-01 12:27:46.519038: I tensorflow/core/grappler/optimizers/meta_optimizer.cc:1149] Optimization results for grappler item: graph_to_optimize\n",
      "  remapper: Graph size after: 876 nodes (-1), 1024 edges (-1), time = 46.012ms.\n",
      "  constant_folding: Graph size after: 876 nodes (0), 1024 edges (0), time = 124.397ms.\n",
      "  arithmetic_optimizer: Graph size after: 876 nodes (0), 1024 edges (0), time = 103.911ms.\n",
      "  dependency_optimizer: Graph size after: 876 nodes (0), 1024 edges (0), time = 36.292ms.\n",
      "  remapper: Graph size after: 876 nodes (0), 1024 edges (0), time = 24.128ms.\n",
      "  constant_folding: Graph size after: 876 nodes (0), 1024 edges (0), time = 98.798ms.\n",
      "  arithmetic_optimizer: Graph size after: 876 nodes (0), 1024 edges (0), time = 67.111ms.\n",
      "  dependency_optimizer: Graph size after: 876 nodes (0), 1024 edges (0), time = 32.435ms.\n",
      "\n",
      "Writing weight file /Users/danielgoldelman/Desktop/privacy-tech-lab/privacy-pioneer-machine-learning/convertMultiModel/multitaskModelForJSWeb/model.json...\n"
     ]
    }
   ],
   "source": [
    "!tensorflowjs_converter \\\n",
    "    --input_format=tf_saved_model \\\n",
    "    --output_format=tfjs_graph_model \\\n",
    "    --signature_name=serving_default \\\n",
    "    --saved_model_tags=serve \\\n",
    "    /Users/danielgoldelman/Desktop/privacy-tech-lab/privacy-pioneer-machine-learning/convertMultiModel/multitaskModelForJS \\\n",
    "    /Users/danielgoldelman/Desktop/privacy-tech-lab/privacy-pioneer-machine-learning/convertMultiModel/multitaskModelForJSWeb"
   ]
  }
 ],
 "metadata": {
  "interpreter": {
   "hash": "aee8b7b246df8f9039afb4144a1f6fd8d2ca17a180786b69acc140d282b71a49"
  },
  "kernelspec": {
   "display_name": "Python 3.9.5 64-bit",
   "language": "python",
   "name": "python3"
  },
  "language_info": {
   "codemirror_mode": {
    "name": "ipython",
    "version": 3
   },
   "file_extension": ".py",
   "mimetype": "text/x-python",
   "name": "python",
   "nbconvert_exporter": "python",
   "pygments_lexer": "ipython3",
   "version": "3.9.5"
  },
  "orig_nbformat": 4
 },
 "nbformat": 4,
 "nbformat_minor": 2
}
